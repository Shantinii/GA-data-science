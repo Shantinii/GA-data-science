{
 "cells": [
  {
   "cell_type": "markdown",
   "id": "ed6dc721",
   "metadata": {},
   "source": [
    "<img src=\"http://imgur.com/1ZcRyrc.png\" style=\"float: left; margin: 20px; height: 55px\">\n",
    "\n",
    "## Practice : List and Dictionary Comprehensions\n",
    "\n",
    "---\n",
    "\n",
    "Practice essentials of performing list and dictionary comprehensions in Python."
   ]
  },
  {
   "cell_type": "code",
   "execution_count": 1,
   "id": "d5573344",
   "metadata": {},
   "outputs": [],
   "source": [
    "import numpy as np\n",
    "import string"
   ]
  },
  {
   "cell_type": "markdown",
   "id": "653884d1",
   "metadata": {},
   "source": [
    "\n",
    "### Section 1: List comprehensions\n",
    "\n",
    "##### 1) Add 1 to every element in the list."
   ]
  },
  {
   "cell_type": "code",
   "execution_count": 16,
   "id": "e360aa54",
   "metadata": {},
   "outputs": [
    {
     "data": {
      "text/plain": [
       "[1, 2, 3, 4, 5, 6, 7, 8, 9, 10]"
      ]
     },
     "execution_count": 16,
     "metadata": {},
     "output_type": "execute_result"
    }
   ],
   "source": [
    "numbers = [0,1,2,3,4,5,6,7,8,9]\n",
    "\n",
    "    \n",
    "num_1=[num+1 for num in numbers]\n",
    "num_1"
   ]
  },
  {
   "cell_type": "markdown",
   "id": "cecd2241",
   "metadata": {},
   "source": [
    "#####  2) Binarize\" n so that any value greater than or equal to the mean of n is 1, otherwise 0."
   ]
  },
  {
   "cell_type": "code",
   "execution_count": 22,
   "id": "0323a527",
   "metadata": {},
   "outputs": [
    {
     "data": {
      "text/plain": [
       "[0, 0, 0, 1, 0, 0, 1, 0, 1, 0, 1, 1, 0, 0, 0]"
      ]
     },
     "execution_count": 22,
     "metadata": {},
     "output_type": "execute_result"
    }
   ],
   "source": [
    "n = [1, 2, 7, 21, 3, 1, 62, 3, 34, 12, 73, 44, 12, 11, 9]\n",
    "\n",
    "\n",
    "# num =[]\n",
    "a = (sum(n)/len(n))\n",
    "# for i in n:\n",
    "#     if i>= a:\n",
    "#         num.append(1)\n",
    "#     else:\n",
    "#         num.append(0)\n",
    "# print(num)\n",
    "\n",
    "[1 if i >= a else 0 for i in n]"
   ]
  },
  {
   "cell_type": "markdown",
   "id": "eed09238",
   "metadata": {},
   "source": [
    "#####  3) Get the square and square root of all non-negative numbers in the list."
   ]
  },
  {
   "cell_type": "code",
   "execution_count": 43,
   "id": "c42a5562",
   "metadata": {},
   "outputs": [
    {
     "data": {
      "text/plain": [
       "[0, 1, 2500, '', '', 5625, '']"
      ]
     },
     "execution_count": 43,
     "metadata": {},
     "output_type": "execute_result"
    }
   ],
   "source": [
    "n = [0, 1, 50, -23, -1, 75, -3]\n",
    "import math\n",
    "positive= []\n",
    "# a = math.sqrt(i)\n",
    "\n",
    "# for i in n:\n",
    "#     if i >= 0:\n",
    "#         positive.append(i**2)\n",
    "# #         positive.append(a)\n",
    "#     else:\n",
    "#         continue\n",
    "# print(positive)\n",
    "\n",
    "positive = [i**2 if i>=0 else '' for i in n]\n",
    "positive"
   ]
  },
  {
   "cell_type": "markdown",
   "id": "88f3af3f",
   "metadata": {},
   "source": [
    "##### 4) Combine elements of these two lists item by item into list pairs:\n",
    "result should be: `[['a', 'z'], ['b', 'y'], ['c', 'x'], ['d', 'w']]`"
   ]
  },
  {
   "cell_type": "code",
   "execution_count": 49,
   "id": "5d6445cb",
   "metadata": {},
   "outputs": [
    {
     "name": "stdout",
     "output_type": "stream",
     "text": [
      "['az', 'by', 'cx', 'dw']\n"
     ]
    }
   ],
   "source": [
    "a = ['a','b','c','d']\n",
    "z = ['z','y','x','w']\n",
    "\n",
    "\n",
    "# az = []\n",
    "# for i in a:\n",
    "#     for j in z:\n",
    "#         az.append(i+j)\n",
    "# print(az)\n",
    "\n",
    "print([str(a[i])+z[i] for i in range(len(a))])"
   ]
  },
  {
   "cell_type": "markdown",
   "id": "a8bb4a84",
   "metadata": {},
   "source": [
    "##### 5) Pair each index and element in this list into list pairs:\n",
    "result should be: `[[0, 'a'], [1, 'b'], [2, 'c'], [3, 'd']]`"
   ]
  },
  {
   "cell_type": "code",
   "execution_count": 71,
   "id": "c8dc3be9",
   "metadata": {},
   "outputs": [],
   "source": [
    "a = ['a','b','c','d']\n",
    "b =[]\n",
    "for index, i in enumerate(a):\n",
    "    b=[index, i]\n",
    "    print(b)\n",
    "\n"
   ]
  },
  {
   "cell_type": "markdown",
   "id": "f3e5175b",
   "metadata": {},
   "source": [
    "### Section 2: Dictionary comprehensions\n",
    "\n",
    "##### 6) Make a dictionary in which keys are animals and values are lists, storing the [ASCII](http://www.asciitable.com/) number value of each character in the key, eg `'dog': [100, 111, 103]`\n",
    "\n",
    "Hint: Use the **`ord()`** function to convert characters into their ASCII values.\n"
   ]
  },
  {
   "cell_type": "code",
   "execution_count": 74,
   "id": "ab7ffa14",
   "metadata": {},
   "outputs": [
    {
     "name": "stdout",
     "output_type": "stream",
     "text": [
      "{'dog': [100, 111, 103], 'cat': [99, 97, 116], 'bird': [98, 105, 114, 100], 'horse': [104, 111, 114, 115, 101]}\n"
     ]
    }
   ],
   "source": [
    "keys = ['dog', 'cat', 'bird', 'horse']\n",
    "\n",
    "ascii_dict = {}\n",
    "\n",
    "for animal in keys:\n",
    "    ascii_values = [ord(char) for char in animal]\n",
    "    ascii_dict[animal] = ascii_values\n",
    "\n",
    "print(ascii_dict)\n"
   ]
  },
  {
   "cell_type": "markdown",
   "id": "ff3a447f",
   "metadata": {},
   "source": [
    "##### 7) Create a dictionary with these column names and the corresponding column values."
   ]
  },
  {
   "cell_type": "code",
   "execution_count": 76,
   "id": "6b3952a6",
   "metadata": {},
   "outputs": [
    {
     "name": "stdout",
     "output_type": "stream",
     "text": [
      "{'height': [62, 54, 60, 50], 'weight': [180, 120, 200, 100], 'is_male': [True, False, True, False]}\n"
     ]
    }
   ],
   "source": [
    "column_names = ['height','weight','is_male']\n",
    "values = [[62, 54, 60, 50], [180, 120, 200, 100], [True, False, True, False]]\n",
    "\n",
    "dict = {}\n",
    "\n",
    "for i, column_name in enumerate(column_names):\n",
    "    dict[column_name] = values[i]\n",
    "\n",
    "print(dict)\n"
   ]
  },
  {
   "cell_type": "code",
   "execution_count": null,
   "id": "90993144",
   "metadata": {},
   "outputs": [],
   "source": []
  }
 ],
 "metadata": {
  "kernelspec": {
   "display_name": "Python 3 (ipykernel)",
   "language": "python",
   "name": "python3"
  },
  "language_info": {
   "codemirror_mode": {
    "name": "ipython",
    "version": 3
   },
   "file_extension": ".py",
   "mimetype": "text/x-python",
   "name": "python",
   "nbconvert_exporter": "python",
   "pygments_lexer": "ipython3",
   "version": "3.11.4"
  }
 },
 "nbformat": 4,
 "nbformat_minor": 5
}
